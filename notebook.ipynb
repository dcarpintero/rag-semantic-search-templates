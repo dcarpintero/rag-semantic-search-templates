{
 "cells": [
  {
   "cell_type": "markdown",
   "metadata": {},
   "source": [
    "# RAG Template"
   ]
  },
  {
   "cell_type": "markdown",
   "metadata": {},
   "source": [
    "- Vectorization and inference requires an `OPENAI API KEY` in your local env. \n",
    "- Upload your documents to the `data` folder."
   ]
  },
  {
   "cell_type": "code",
   "execution_count": 8,
   "metadata": {},
   "outputs": [
    {
     "name": "stdout",
     "output_type": "stream",
     "text": [
      "Note: you may need to restart the kernel to use updated packages.\n"
     ]
    }
   ],
   "source": [
    "%pip install -q llama-index"
   ]
  },
  {
   "cell_type": "markdown",
   "metadata": {},
   "source": [
    "## ETL (Oversimplified)"
   ]
  },
  {
   "cell_type": "markdown",
   "metadata": {},
   "source": [
    "### Data Loading from Local Folder"
   ]
  },
  {
   "cell_type": "markdown",
   "metadata": {},
   "source": [
    "Note the use of `metadata`, this will be useful at inference time (e.g. to cite authors or sources)."
   ]
  },
  {
   "cell_type": "code",
   "execution_count": 2,
   "metadata": {},
   "outputs": [],
   "source": [
    "from llama_index.core import SimpleDirectoryReader\n",
    "\n",
    "reader = SimpleDirectoryReader(input_dir=\"data\")\n",
    "docs = reader.load_data()\n",
    "\n",
    "for doc in docs:\n",
    "    doc.metadata = {'filename': doc.extra_info['file_name']}\n"
   ]
  },
  {
   "cell_type": "markdown",
   "metadata": {},
   "source": [
    "### Vectorization & Indexation"
   ]
  },
  {
   "cell_type": "markdown",
   "metadata": {},
   "source": [
    "We default this step to `OPEN_AI`, using other models is possible.\n",
    "\n",
    "Note the `chunk_size` and `chunk_overlap` parameters."
   ]
  },
  {
   "cell_type": "code",
   "execution_count": 3,
   "metadata": {},
   "outputs": [],
   "source": [
    "from llama_index.core import VectorStoreIndex\n",
    "from llama_index.core.node_parser import SentenceSplitter\n",
    "\n",
    "from llama_index.core import Settings\n",
    "\n",
    "# global\n",
    "Settings.text_splitter = SentenceSplitter(chunk_size=1024, chunk_overlap=20)\n",
    "\n",
    "# per index\n",
    "index = VectorStoreIndex.from_documents(\n",
    "    docs,\n",
    "    transformations=[SentenceSplitter(chunk_size=1024, chunk_overlap=32)],\n",
    ")"
   ]
  },
  {
   "cell_type": "markdown",
   "metadata": {},
   "source": [
    "### Persist Index"
   ]
  },
  {
   "cell_type": "markdown",
   "metadata": {},
   "source": [
    "In practice, you might want to use a vector database such as [Weaviate](https://weaviate.io/) or Pinecone (https://www.pinecone.io/).\n",
    "\n",
    "Inspect the `./storage` folder to grasp how your documents have been transformed and chunks and embeddings indexed."
   ]
  },
  {
   "cell_type": "code",
   "execution_count": null,
   "metadata": {},
   "outputs": [],
   "source": [
    "index.storage_context.persist(persist_dir=\"./storage\")"
   ]
  },
  {
   "cell_type": "markdown",
   "metadata": {},
   "source": [
    "### RAG"
   ]
  },
  {
   "cell_type": "markdown",
   "metadata": {},
   "source": [
    "#### Sample_1"
   ]
  },
  {
   "cell_type": "code",
   "execution_count": 9,
   "metadata": {},
   "outputs": [],
   "source": [
    "query_engine = index.as_query_engine()\n",
    "response = query_engine.query(\"which vegetables contribute to carbon sequestration?\")"
   ]
  },
  {
   "cell_type": "markdown",
   "metadata": {},
   "source": [
    "Note how source citation is enabled by the custom `metadata` and `source_nodes` fields:"
   ]
  },
  {
   "cell_type": "code",
   "execution_count": null,
   "metadata": {},
   "outputs": [
    {
     "name": "stdout",
     "output_type": "stream",
     "text": [
      "Response(response='Grain legumes and dryland cereals, such as chickpea, common '\n",
      "                  'bean, cowpea, groundnut, lentil, pigeon pea, soybean, '\n",
      "                  'finger millet, pearl millet, and sorghum, contribute to '\n",
      "                  'carbon sequestration.',\n",
      "         source_nodes=[NodeWithScore(node=TextNode(id_='fe4f1f62-c95f-4464-8084-844b65b8fbab', embedding=None, metadata={'filename': 'Grain-legumes-and-dryland-cereals-contribute-to-carbo_2023_Agriculture--Ecos.pdf'}, excluded_embed_metadata_keys=['file_name', 'file_type', 'file_size', 'creation_date', 'last_modified_date', 'last_accessed_date'], excluded_llm_metadata_keys=['file_name', 'file_type', 'file_size', 'creation_date', 'last_modified_date', 'last_accessed_date'], relationships={<NodeRelationship.SOURCE: '1'>: RelatedNodeInfo(node_id='f5d70dca-0fa6-4a6c-944d-4021ab5c9299', node_type='4', metadata={'filename': 'Grain-legumes-and-dryland-cereals-contribute-to-carbo_2023_Agriculture--Ecos.pdf'}, hash='ff5a334d9f7de62a021d0954e102f8704c3c42f18d4ebd935ed6c41cbc2d7578'), <NodeRelationship.PREVIOUS: '2'>: RelatedNodeInfo(node_id='f81e8597-8259-4330-8006-d047cdb0e1ab', node_type='1', metadata={'filename': 'Grain-legumes-and-dryland-cereals-contribute-to-carbo_2023_Agriculture--Ecos.pdf'}, hash='56731fb0fe70bed76d987dd3e9e1f2ee9ca23175a51be34d1d06eb61517b0e7a')}, metadata_template='{key}: {value}', metadata_separator='\\n', text='These crops produced more aboveground carbon, and \\nsignificantly increased SOC, when grown as intercrops. Soils with low initial SOC ( < 1%) and high clay content \\n( > 32%) showed the greatest potential for carbon sequestration when cropped with grain legumes and dryland \\ncereals. This study is the first of its kind to provide evidence that grain legumes and drylands cereals improve \\ncarbon sequestration across Africa and South Asia.   \\n1. Introduction \\nSubsistence agriculture is the main livelihood for millions of \\nhouseholds in Africa and South Asia, where smallholder farms ( < 2 ha) \\naccount for over 30% of the food produced ( Herrero et al., 2017 ). \\nHowever, yields in Africa and South Asia are still below potential levels \\n( Godfray and Garnett, 2014 ), so the vast majority of smallholder \\ncommunities continue to experience poverty and food insecurity. The \\nsituation is worsened by climate change, which has put smallholder \\ncommunities at risk and reinforced poverty and vulnerability ( Knox \\net al., 2012 ). One way to spur economic growth and help populations in \\nAfrica and South Asia escape poverty is by transforming agriculture \\n( AGRA, 2017; Gassner et al., 2019 ), e.g., through intensification. How -\\never, it is important that this intensification involves crops and cropping \\n* Corresponding author at: Department of Botany, Jomo Kenyatta University of Agriculture and Technology (JKUAT), P.O. Box 62000, 00200 Nairobi. \\nE-mail address: kshem@jkuat.ac.ke (S. Kuyah).  \\nContents lists available at ScienceDirect \\nAgriculture, Ecosystems and Environment \\njournal homepag e: www.else vier.com/loc ate/agee \\nhttps://doi.org/10.1016/j.agee.2023.108583 \\nReceived 14 August 2022; Received in revised form 7 May 2023; Accepted 9 May 2023', mimetype='text/plain', start_char_idx=3323, end_char_idx=5082, metadata_seperator='\\n', text_template='{metadata_str}\\n\\n{content}'), score=0.8406988334995946),\n",
      "                       NodeWithScore(node=TextNode(id_='f81e8597-8259-4330-8006-d047cdb0e1ab', embedding=None, metadata={'filename': 'Grain-legumes-and-dryland-cereals-contribute-to-carbo_2023_Agriculture--Ecos.pdf'}, excluded_embed_metadata_keys=['file_name', 'file_type', 'file_size', 'creation_date', 'last_modified_date', 'last_accessed_date'], excluded_llm_metadata_keys=['file_name', 'file_type', 'file_size', 'creation_date', 'last_modified_date', 'last_accessed_date'], relationships={<NodeRelationship.SOURCE: '1'>: RelatedNodeInfo(node_id='f5d70dca-0fa6-4a6c-944d-4021ab5c9299', node_type='4', metadata={'filename': 'Grain-legumes-and-dryland-cereals-contribute-to-carbo_2023_Agriculture--Ecos.pdf'}, hash='ff5a334d9f7de62a021d0954e102f8704c3c42f18d4ebd935ed6c41cbc2d7578'), <NodeRelationship.NEXT: '3'>: RelatedNodeInfo(node_id='fe4f1f62-c95f-4464-8084-844b65b8fbab', node_type='1', metadata={}, hash='1fceb2e3403d98290628d8fd57ca0177702cd2a768ea64593ef68f424148fb52')}, metadata_template='{key}: {value}', metadata_separator='\\n', text='Agriculture, Ecosystems and Environment 355 (2023) 108583\\nAvailable online 17 May 2023\\n0167-8809/© 2023 The Author(s). Published by Elsevier B.V. This is an open access article under the CC BY license (http://creativecommons.org/licenses/by/4.0/).\\nGrain legumes and dryland cereals contribute to carbon sequestration in the \\ndrylands of Africa and South Asia \\nShem Kuyah\\na , b , *\\n, Tarirai Muoni\\nb , c\\n, Jules Bayala\\nd\\n, Pierre Chopin\\ne\\n, A.Sigrun Dahlin\\nf\\n, \\nKarl Hughes\\ng\\n, Mattias Jonsson\\nh\\n, Shalander Kumar\\ni\\n, Gudeta Weldesemayat Sileshi\\nj\\n, \\nKangb ´eni Dimobe\\nk\\n, Ingrid \\n¨\\nOborn\\nb \\na\\nDepartment of Botany, Jomo Kenyatta University of Agriculture and Technology (JKUAT), P.O. Box 62000, 00200 Nairobi \\nb\\nDepartment of Crop Production Ecology, Swedish University of Agricultural Sciences (SLU), P.O. Box 7043, 750 07 Uppsala, Sweden \\nc\\nInternational Maize and Wheat Improvement Center, P. O Box MP163 Mount Pleasant, Harare, Zimbabwe \\nd\\nCenter for International Forestry Research-World Agroforestry (CIFOR-ICRAF), Sahel Office, Ouagadougou 06 BP 9478, Burkina Faso \\ne\\nEnvironmental Geography Group, Institute for Environmental Studies, VU University, De Boelelaan 1087, 1081 HV Amsterdam, the Netherlands \\nf\\nDepartment of Soil and Environment, Swedish University of Agricultural Sciences, P.O. Box 7014, SE-750 07 Uppsala, Sweden \\ng\\nCenter for International Forestry Research-World Agroforestry (CIFOR-ICRAF), P.O. Box 30677, 00100 Nairobi, Kenya \\nh\\nDepartment of Ecology, Swedish University of Agricultural Sciences (SLU), P.O. Box 7044, 750 07 Uppsala, Sweden \\ni\\nInternational Crops Research Institute for the Semi-Arid Tropics (ICRISAT), Patancheru, 502324 Telangana, India \\nj\\nDepartment of Plant Biology and Biodiversity Management, Addis Ababa University, Addis Ababa, Ethiopia \\nk\\nD ´epartement des Eaux, For ˆets et Environnement, Institut des Sciences de l\\n′\\nEnvironnement et du D ´eveloppement Rural (ISEDR), Universit ´e de D ´edougou, B.P. 176, \\nD ´edougou, Burkina Faso   \\nARTICLE INFO  \\nKeywords: \\nAboveground carbon \\nCrop rotation \\nIntercropping \\nSoil organic carbon \\nSustainable intensification \\nABSTRACT  \\nGrain legumes and drylands cereals including chickpea ( Cicer arietinum ), common bean ( Phaseolus vulgaris ), \\ncowpea ( Vigna unguiculata ), groundnut ( Arachis hypogaea ), lentil ( Lens culinaris ), pigeon pea ( Cajanus cajan ), \\nsoybean ( Glycine max ), finger millet ( Eleusine coracana ), pearl millet ( Pennisetum glaucum ) and sorghum ( Sorghum \\nbicolor ) are the leading sources of food grain in drylands of Africa and South Asia. These crops can help \\nsmallholder agriculture to become more resilient, productive, and profitable, but their quantitative impact on \\ncarbon sequestration is unknown. The aim of this review study was to quantify their contribution to carbon \\nsequestration across the drylands of Africa and South Asia based on 437 publications with 1319 observations in \\nstudies conducted across 32 countries. Cropping systems with grain legumes showed the greatest increase in soil \\norganic carbon (SOC) concentrations, while cereals (and pigeon pea) gave the largest amount of aboveground \\ncarbon stock ( > 2 Mg C ha\\n\\x00 1\\n). Estimated carbon stock in post-harvest residues of these crops was 1.51 ± 0.05 Mg \\nC ha\\n\\x00 1 \\nin Africa and 2.29 ± 0.10 Mg C ha\\n\\x00 1 \\nin South Asia.', mimetype='text/plain', start_char_idx=0, end_char_idx=3322, metadata_seperator='\\n', text_template='{metadata_str}\\n\\n{content}'), score=0.8403896362573253)],\n",
      "         metadata={'f81e8597-8259-4330-8006-d047cdb0e1ab': {'filename': 'Grain-legumes-and-dryland-cereals-contribute-to-carbo_2023_Agriculture--Ecos.pdf'},\n",
      "                   'fe4f1f62-c95f-4464-8084-844b65b8fbab': {'filename': 'Grain-legumes-and-dryland-cereals-contribute-to-carbo_2023_Agriculture--Ecos.pdf'}})\n"
     ]
    }
   ],
   "source": [
    "import pprint\n",
    "pprint.pprint(response)"
   ]
  },
  {
   "cell_type": "markdown",
   "metadata": {},
   "source": [
    "#### Sample_2"
   ]
  },
  {
   "cell_type": "code",
   "execution_count": 14,
   "metadata": {},
   "outputs": [],
   "source": [
    "query_engine = index.as_query_engine()\n",
    "response = query_engine.query(\"which strategy do you recommend to optimize soil nitrate levels?\")"
   ]
  },
  {
   "cell_type": "code",
   "execution_count": 15,
   "metadata": {},
   "outputs": [
    {
     "name": "stdout",
     "output_type": "stream",
     "text": [
      "Response(response='I recommend sowing cover crops on 9 – 10 August as this '\n",
      "                  'strategy resulted in the lowest nitrate concentration in '\n",
      "                  'the drainage water over autumn and winter months compared '\n",
      "                  'to later sowing times. This approach can help optimize soil '\n",
      "                  'nitrate levels by reducing nitrate leaching and potentially '\n",
      "                  'improving nitrogen uptake by the cover crops.',\n",
      "         source_nodes=[NodeWithScore(node=TextNode(id_='2b5a15e4-938f-46fe-96b6-afe3352606cb', embedding=None, metadata={'filename': 'Delaying-sowing-of-cover-crops-decreases-the-abi_2023_Agriculture--Ecosystem.pdf'}, excluded_embed_metadata_keys=['file_name', 'file_type', 'file_size', 'creation_date', 'last_modified_date', 'last_accessed_date'], excluded_llm_metadata_keys=['file_name', 'file_type', 'file_size', 'creation_date', 'last_modified_date', 'last_accessed_date'], relationships={<NodeRelationship.SOURCE: '1'>: RelatedNodeInfo(node_id='e5b23e44-c671-4e7f-90cf-d1c36084799d', node_type='4', metadata={'filename': 'Delaying-sowing-of-cover-crops-decreases-the-abi_2023_Agriculture--Ecosystem.pdf'}, hash='23e6e1114b5efcaf6fcd63c4e0da553d69dc70f33b1e45db67321fe8c26f8c9f')}, metadata_template='{key}: {value}', metadata_separator='\\n', text='Agriculture, Ecosystems and Environment 355 (2023) 108598\\n5\\npresented in Figs. 3 – 5 . Cover crops sown on 9 – 10 August had the lowest \\nnitrate concentration in the drainage water over autumn and winter \\nmonths (mid-September to February) compared with the later sowing \\ntimes in all the drainage periods ( Figs. 3, 4, 5 ). There were very slight \\ndifferences in nitrate concentrations during the first measurements in \\nthe drainage periods among most of the sowing times, with exceptions \\nfor oats in 2019 – 20 and 2021 – 2022. Nitrate concentrations from the \\nbare soil were higher than soil with cover crops in autumn. There was a \\nslight increase in nitrate concentration in the later phase of spring, \\nparticularly with phacelia and oats. Fodder radish plots showed a \\npattern of increasing nitrate concentration with subsequent sowings in \\nall the drainage periods. However, the same clear pattern was not found \\nwith phacelia and oats. \\n3.4. Nitrate leaching reduction \\nNitrate leaching reduction significantly decreased with delayed \\nsowing ( Table 3 ). Overall, the reduction decreased from the highest at \\nfirst sowing to the lowest at the last sowing with an average per day \\ndecrease of 0.8 kg N ha\\n-1 \\nin the species ( Fig. 6 ). The nitrate leaching \\nreduction was significantly affected by cover crop species and drainage \\nperiod. However, the effect was the same between the cover crops as \\nwell as drainage periods (same slope of \\x00 0.8; Table 3 , Figs. 6 a, 6 b). With \\na significantly higher intercept fodder radish on average reduced nitrate \\nleaching more than phacelia and oats ( Fig. 6 a). The respective values \\nwere 64 kg N ha\\n-1\\n, 47 kg N ha\\n-1\\n, and 44 kg N ha\\n-1\\n) (post-hoc pairwise \\ncomparisons, Supplementary Table S2 ). Similarly, the average reduction \\nin the three cover crops differed between years and was significantly \\nhigher for the drainage periods 2021 – 22 (63 kg N ha\\n-1\\n) than 2019 – 20 \\n(46 kg N ha\\n-1\\n) and 2020 – 21 (46 kg N ha\\n-1\\n) ( Supplementary Table S2 ). \\nThe variations among the plots appeared to be more pronounced in the \\ndrainage period 2019 – 20 than 2020 – 21 and 2021 – 22 in the measured \\ndata at different sowing times ( Fig. 6 ). The blocks accounted for a \\nconsiderable amount of variation (sample of variance = s\\n2 \\n= 345.3), \\nwhich resulted in large variation around the estimated slope ( Fig. 6 ). \\nHowever, the patterns with the sowing times were largely consistent \\nwithin blocks, and the variation was accounted for in the models as \\nblock was included as a random effect. \\nFig. 3. Nitrate concentration in soil water after sowing cover crops at four different times and bare soil (herbicide-treated) at Foulum in 2019 – 20. The calculated \\ndrainage for bare soil is shown as bars. The number for the symbols are sowing day after 1 August. \\nU. Kumar et al.', mimetype='text/plain', start_char_idx=0, end_char_idx=2826, metadata_seperator='\\n', text_template='{metadata_str}\\n\\n{content}'), score=0.8197150469541916),\n",
      "                       NodeWithScore(node=TextNode(id_='778b3b27-263c-4ee3-b8c2-1176eed54ac6', embedding=None, metadata={'filename': 'Delaying-sowing-of-cover-crops-decreases-the-abi_2023_Agriculture--Ecosystem.pdf'}, excluded_embed_metadata_keys=['file_name', 'file_type', 'file_size', 'creation_date', 'last_modified_date', 'last_accessed_date'], excluded_llm_metadata_keys=['file_name', 'file_type', 'file_size', 'creation_date', 'last_modified_date', 'last_accessed_date'], relationships={<NodeRelationship.SOURCE: '1'>: RelatedNodeInfo(node_id='1e4148fe-388e-4824-a30c-0543769cde99', node_type='4', metadata={'filename': 'Delaying-sowing-of-cover-crops-decreases-the-abi_2023_Agriculture--Ecosystem.pdf'}, hash='ec9ae498bba590e8f0e0256b5030db2f68d812673285525d485d72086f432b06')}, metadata_template='{key}: {value}', metadata_separator='\\n', text='Agriculture, Ecosystems and Environment 355 (2023) 108598\\n6\\nWe found that variation in nitrate leaching was associated with N \\nuptake, with increasing N uptake resulting in less leaching ( Fig. 7 ). As \\nthe N uptake was analyzed in a logarithmic model, this means that \\nleaching reduced with increasing N uptake at higher rates when N up -\\ntake was smaller, and the effect became less steep with high N uptake \\nlevels ( Fig. 7 ). The logarithmic function with a slope coefficient of \\x00 20.6 \\nx log of N uptake showed that overall a 1% increase in N uptake reduced \\nnitrate leaching by 0.09 kg N ha\\n-1\\n. This effect was neither dependent on \\ncover crop species nor on drainage periods (no significant interactions), \\nbut different intercepts ( Table 3 ) that lead to overall differences in ni -\\ntrate leaching. On average the leaching was significantly lower for \\nfodder radish than for phacelia and oats (post-hoc pairwise comparisons, \\nSupplementary Table S3 ). The average leaching for individual drainage \\nperiods were also significantly different from each other, with drainage \\nperiod 2019 – 20 having significantly more leaching than the other two \\nperiods. \\n4. Discussion \\n4.1. Nitrogen uptake response to sowing time \\nN uptake in cover crops decreased with delayed sowing time, and the \\ndecrease was different between different cover crop species, and be -\\ntween different years ( Fig. 2 ). This indicates that the cover crops had \\ndifferent abilities to take up N from the soil and translocate that to \\nabove-ground organs, which were stimulated by the sowing time and \\ngrowing conditions in the year. Although the N uptake in phacelia and \\noats was higher than in fodder radish at first sowing, the decrease in N \\nuptake with the later sowing times was less pronounced for fodder \\nradish than the other two crops. This suggests that fodder radish is better \\nadapted to the deteriorating growing conditions in autumn than pha -\\ncelia and oats. The average N uptake in the cover crops was 33 kg N ha\\n-1 \\nfrom the sowing on 9 – 10th August, which is in the range of N uptake in \\nthe cover crops sown on the recommended dates in Denmark, Sweden, \\nNorway, and Finland ( Thomsen and Hansen, 2014; Aronsson et al., \\n2016 ). At the sowing time on 7 September, N uptake in cover crops \\nFig. 4. Nitrate concentration in soil water after sowing cover crops at four different times and bare soil (herbicide-treated) at Foulum in 2020 – 21. The calculated \\ndrainage for bare soil is shown as bars. The number for the symbols are sowing day after 1 August. \\nU. Kumar et al.', mimetype='text/plain', start_char_idx=0, end_char_idx=2568, metadata_seperator='\\n', text_template='{metadata_str}\\n\\n{content}'), score=0.8164625191056837)],\n",
      "         metadata={'2b5a15e4-938f-46fe-96b6-afe3352606cb': {'filename': 'Delaying-sowing-of-cover-crops-decreases-the-abi_2023_Agriculture--Ecosystem.pdf'},\n",
      "                   '778b3b27-263c-4ee3-b8c2-1176eed54ac6': {'filename': 'Delaying-sowing-of-cover-crops-decreases-the-abi_2023_Agriculture--Ecosystem.pdf'}})\n"
     ]
    }
   ],
   "source": [
    "import pprint\n",
    "pprint.pprint(response)"
   ]
  },
  {
   "cell_type": "code",
   "execution_count": null,
   "metadata": {},
   "outputs": [],
   "source": []
  }
 ],
 "metadata": {
  "kernelspec": {
   "display_name": "Python 3",
   "language": "python",
   "name": "python3"
  },
  "language_info": {
   "codemirror_mode": {
    "name": "ipython",
    "version": 3
   },
   "file_extension": ".py",
   "mimetype": "text/x-python",
   "name": "python",
   "nbconvert_exporter": "python",
   "pygments_lexer": "ipython3",
   "version": "3.12.1"
  }
 },
 "nbformat": 4,
 "nbformat_minor": 2
}
